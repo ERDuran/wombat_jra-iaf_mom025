{
 "cells": [
  {
   "cell_type": "code",
   "execution_count": 1,
   "metadata": {},
   "outputs": [],
   "source": [
    "import os\n",
    "# numerical computing package\n",
    "import numpy as np\n",
    "# basemap toolkit to plot maps\n",
    "from mpl_toolkits.basemap import Basemap\n",
    "# command style functions that make matplotlib work like MATLAB\n",
    "import matplotlib.pyplot as plt\n",
    "# matplotlib\n",
    "import matplotlib\n",
    "# find nearest value\n",
    "def find_nearest_index(array, value):\n",
    "    return (np.abs(array - value)).argmin()\n",
    "#\n",
    "import sys\n",
    "#\n",
    "import pickle\n",
    "#\n",
    "import xarray as xr\n",
    "#\n",
    "from glob2 import glob as gb\n",
    "#\n",
    "import time"
   ]
  },
  {
   "cell_type": "code",
   "execution_count": 2,
   "metadata": {},
   "outputs": [
    {
     "data": {
      "application/javascript": [
       "IPython.notebook.kernel.execute('nb_name = ' + '\"' + IPython.notebook.notebook_name + '\"')"
      ],
      "text/plain": [
       "<IPython.core.display.Javascript object>"
      ]
     },
     "metadata": {},
     "output_type": "display_data"
    }
   ],
   "source": [
    "%%javascript\n",
    "IPython.notebook.kernel.execute('nb_name = ' + '\"' + IPython.notebook.notebook_name + '\"')"
   ]
  },
  {
   "cell_type": "code",
   "execution_count": 3,
   "metadata": {},
   "outputs": [
    {
     "name": "stdout",
     "output_type": "stream",
     "text": [
      "Figures will be saved in: /Users/earl/Dropbox/wombat_jra_mom025/figures/c01_year_to_year_variability\n",
      "\n"
     ]
    },
    {
     "ename": "NameError",
     "evalue": "name 'remote_domain' is not defined",
     "output_type": "error",
     "traceback": [
      "\u001b[0;31m---------------------------------------------------------------------------\u001b[0m",
      "\u001b[0;31mNameError\u001b[0m                                 Traceback (most recent call last)",
      "\u001b[0;32m<ipython-input-3-d533fa1711e3>\u001b[0m in \u001b[0;36m<module>\u001b[0;34m()\u001b[0m\n\u001b[1;32m      8\u001b[0m os.system('sshfs ' +\n\u001b[1;32m      9\u001b[0m           \u001b[0mremote_domain\u001b[0m \u001b[0;34m+\u001b[0m\u001b[0;34m\u001b[0m\u001b[0m\n\u001b[0;32m---> 10\u001b[0;31m           \u001b[0mremote_path\u001b[0m \u001b[0;34m+\u001b[0m \u001b[0;34m' '\u001b[0m \u001b[0;34m+\u001b[0m\u001b[0;34m\u001b[0m\u001b[0m\n\u001b[0m\u001b[1;32m     11\u001b[0m           local_path)\n\u001b[1;32m     12\u001b[0m \u001b[0;34m\u001b[0m\u001b[0m\n",
      "\u001b[0;31mNameError\u001b[0m: name 'remote_domain' is not defined"
     ]
    }
   ],
   "source": [
    "figures_path = '/Users/earl/Dropbox/wombat_jra_mom025/figures/'\n",
    "script_name = nb_name[:-6]\n",
    "print('Figures will be saved in: ' + figures_path + script_name + '\\n')\n",
    "\n",
    "remote_domain1 = 'erd561@raijin.nci.org.au:'\n",
    "remote_path1 = '/g/data/ua8/JRA55-do/v1-3'\n",
    "local_path1 = '/Users/earl/Desktop/alamanda/'\n",
    "os.system('sshfs ' +\n",
    "          remote_domain +\n",
    "          remote_path + ' ' +\n",
    "          local_path)\n",
    "\n",
    "remote_domain2 = 'erd561@raijin.nci.org.au:'\n",
    "remote_path2 = '/g/data/v45/mtc599/mom5/dec16b/OUTPUTr1'\n",
    "local_path2 = '/Users/earl/Desktop/bamboo/'\n",
    "os.system('sshfs ' +\n",
    "          remote_domain +\n",
    "          remote_path + ' ' +\n",
    "          local_path)"
   ]
  },
  {
   "cell_type": "code",
   "execution_count": 4,
   "metadata": {},
   "outputs": [
    {
     "name": "stdout",
     "output_type": "stream",
     "text": [
      "/Users/earl/Desktop/alamanda/t_10.1958.18Oct2017.nc\n",
      "/Users/earl/Desktop/alamanda/t_10.1959.18Oct2017.nc\n",
      "/Users/earl/Desktop/alamanda/t_10.1960.18Oct2017.nc\n",
      "/Users/earl/Desktop/alamanda/t_10.1961.18Oct2017.nc\n",
      "/Users/earl/Desktop/alamanda/t_10.1962.18Oct2017.nc\n",
      "/Users/earl/Desktop/alamanda/t_10.1963.18Oct2017.nc\n",
      "/Users/earl/Desktop/alamanda/t_10.1964.18Oct2017.nc\n",
      "/Users/earl/Desktop/alamanda/t_10.1965.18Oct2017.nc\n",
      "/Users/earl/Desktop/alamanda/t_10.1966.18Oct2017.nc\n",
      "/Users/earl/Desktop/alamanda/t_10.1967.18Oct2017.nc\n",
      "/Users/earl/Desktop/alamanda/t_10.1968.18Oct2017.nc\n",
      "/Users/earl/Desktop/alamanda/t_10.1969.18Oct2017.nc\n",
      "/Users/earl/Desktop/alamanda/t_10.1970.18Oct2017.nc\n",
      "/Users/earl/Desktop/alamanda/t_10.1971.18Oct2017.nc\n",
      "/Users/earl/Desktop/alamanda/t_10.1972.18Oct2017.nc\n",
      "/Users/earl/Desktop/alamanda/t_10.1973.18Oct2017.nc\n",
      "/Users/earl/Desktop/alamanda/t_10.1974.18Oct2017.nc\n",
      "/Users/earl/Desktop/alamanda/t_10.1975.18Oct2017.nc\n",
      "/Users/earl/Desktop/alamanda/t_10.1976.18Oct2017.nc\n",
      "/Users/earl/Desktop/alamanda/t_10.1977.18Oct2017.nc\n",
      "/Users/earl/Desktop/alamanda/t_10.1978.18Oct2017.nc\n",
      "/Users/earl/Desktop/alamanda/t_10.1979.18Oct2017.nc\n",
      "/Users/earl/Desktop/alamanda/t_10.1980.18Oct2017.nc\n",
      "/Users/earl/Desktop/alamanda/t_10.1981.18Oct2017.nc\n",
      "/Users/earl/Desktop/alamanda/t_10.1982.18Oct2017.nc\n",
      "/Users/earl/Desktop/alamanda/t_10.1983.18Oct2017.nc\n",
      "/Users/earl/Desktop/alamanda/t_10.1984.18Oct2017.nc\n",
      "/Users/earl/Desktop/alamanda/t_10.1985.18Oct2017.nc\n",
      "/Users/earl/Desktop/alamanda/t_10.1986.18Oct2017.nc\n",
      "/Users/earl/Desktop/alamanda/t_10.1987.18Oct2017.nc\n",
      "/Users/earl/Desktop/alamanda/t_10.1988.18Oct2017.nc\n",
      "/Users/earl/Desktop/alamanda/t_10.1989.18Oct2017.nc\n",
      "/Users/earl/Desktop/alamanda/t_10.1990.18Oct2017.nc\n",
      "/Users/earl/Desktop/alamanda/t_10.1991.18Oct2017.nc\n",
      "/Users/earl/Desktop/alamanda/t_10.1992.18Oct2017.nc\n",
      "/Users/earl/Desktop/alamanda/t_10.1993.18Oct2017.nc\n",
      "/Users/earl/Desktop/alamanda/t_10.1994.18Oct2017.nc\n",
      "/Users/earl/Desktop/alamanda/t_10.1995.18Oct2017.nc\n",
      "/Users/earl/Desktop/alamanda/t_10.1996.18Oct2017.nc\n",
      "/Users/earl/Desktop/alamanda/t_10.1997.18Oct2017.nc\n",
      "/Users/earl/Desktop/alamanda/t_10.1998.18Oct2017.nc\n",
      "/Users/earl/Desktop/alamanda/t_10.1999.18Oct2017.nc\n",
      "/Users/earl/Desktop/alamanda/t_10.2000.18Oct2017.nc\n",
      "/Users/earl/Desktop/alamanda/t_10.2001.18Oct2017.nc\n",
      "/Users/earl/Desktop/alamanda/t_10.2002.18Oct2017.nc\n",
      "/Users/earl/Desktop/alamanda/t_10.2003.18Oct2017.nc\n",
      "/Users/earl/Desktop/alamanda/t_10.2004.18Oct2017.nc\n",
      "/Users/earl/Desktop/alamanda/t_10.2005.18Oct2017.nc\n",
      "/Users/earl/Desktop/alamanda/t_10.2006.18Oct2017.nc\n",
      "/Users/earl/Desktop/alamanda/t_10.2007.18Oct2017.nc\n",
      "/Users/earl/Desktop/alamanda/t_10.2008.18Oct2017.nc\n",
      "/Users/earl/Desktop/alamanda/t_10.2009.18Oct2017.nc\n",
      "/Users/earl/Desktop/alamanda/t_10.2010.18Oct2017.nc\n",
      "/Users/earl/Desktop/alamanda/t_10.2011.18Oct2017.nc\n",
      "/Users/earl/Desktop/alamanda/t_10.2012.18Oct2017.nc\n",
      "/Users/earl/Desktop/alamanda/t_10.2013.18Oct2017.nc\n",
      "/Users/earl/Desktop/alamanda/t_10.2014.18Oct2017.nc\n",
      "/Users/earl/Desktop/alamanda/t_10.2015.18Oct2017.nc\n",
      "/Users/earl/Desktop/alamanda/t_10.2016.18Oct2017.nc\n",
      "/Users/earl/Desktop/alamanda/t_10.2017.18Oct2017.nc\n"
     ]
    }
   ],
   "source": [
    "var = 't_10'\n",
    "year = 1958\n",
    "# print(os.listdir(local_path1))\n",
    "# files = gb(local_path1 + var + '.' + str(year) + '*')\n",
    "files = sorted(gb(local_path1 + var + '.' + '*' + '18Oct2017.nc'))\n",
    "for f in files:\n",
    "    print(f)"
   ]
  },
  {
   "cell_type": "code",
   "execution_count": 5,
   "metadata": {},
   "outputs": [
    {
     "name": "stdout",
     "output_type": "stream",
     "text": [
      "['/Users/earl/Desktop/alamanda/t_10.1958.18Oct2017.nc', '/Users/earl/Desktop/alamanda/t_10.1959.18Oct2017.nc']\n"
     ]
    }
   ],
   "source": [
    "[os.path.join(local_path1, f) for f in files[0:2]]\n",
    "print(files[0:2])"
   ]
  },
  {
   "cell_type": "code",
   "execution_count": 6,
   "metadata": {},
   "outputs": [
    {
     "data": {
      "text/html": [
       "<table style=\"border: 2px solid white;\">\n",
       "<tr>\n",
       "<td style=\"vertical-align: top; border: 0px solid white\">\n",
       "<h3>Client</h3>\n",
       "<ul>\n",
       "  <li><b>Scheduler: </b>tcp://127.0.0.1:50219\n",
       "  <li><b>Dashboard: </b><a href='http://127.0.0.1:8787/status' target='_blank'>http://127.0.0.1:8787/status</a>\n",
       "</ul>\n",
       "</td>\n",
       "<td style=\"vertical-align: top; border: 0px solid white\">\n",
       "<h3>Cluster</h3>\n",
       "<ul>\n",
       "  <li><b>Workers: </b>4</li>\n",
       "  <li><b>Cores: </b>4</li>\n",
       "  <li><b>Memory: </b>8.59 GB</li>\n",
       "</ul>\n",
       "</td>\n",
       "</tr>\n",
       "</table>"
      ],
      "text/plain": [
       "<Client: scheduler='tcp://127.0.0.1:50219' processes=4 cores=4>"
      ]
     },
     "execution_count": 6,
     "metadata": {},
     "output_type": "execute_result"
    }
   ],
   "source": [
    "%%time\n",
    "\n",
    "from dask.distributed import Client\n",
    "c = Client()\n",
    "c"
   ]
  },
  {
   "cell_type": "code",
   "execution_count": 11,
   "metadata": {},
   "outputs": [
    {
     "name": "stdout",
     "output_type": "stream",
     "text": [
      "<xarray.DataArray 'tas_10m' (time: 5840, latitude: 320, longitude: 640)>\n",
      "dask.array<shape=(5840, 320, 640), dtype=float32, chunksize=(2920, 320, 20)>\n",
      "Coordinates:\n",
      "  * latitude   (latitude) float64 -89.57 -89.01 -88.45 -87.89 -87.33 -86.77 ...\n",
      "  * longitude  (longitude) float64 0.0 0.5625 1.125 1.688 2.25 2.812 3.375 ...\n",
      "  * time       (time) datetime64[ns] 1958-01-01 1958-01-01T03:00:00 ...\n",
      "Attributes:\n",
      "    units:          K\n",
      "    long_name:      Near-Surface Air Temperature at the 10 meter height\n",
      "    standard_name:  air_temperature\n",
      "CPU times: user 36.9 ms, sys: 24 ms, total: 60.9 ms\n",
      "Wall time: 66.7 ms\n"
     ]
    }
   ],
   "source": [
    "%%time\n",
    "\n",
    "ds = xr.open_mfdataset([os.path.join(local_path1, f) for f in files[0:2]], chunks={'longitude': 20})\n",
    "\n",
    "tas_10m = ds.tas_10m\n",
    "print(tas_10m)"
   ]
  },
  {
   "cell_type": "code",
   "execution_count": 17,
   "metadata": {},
   "outputs": [
    {
     "name": "stdout",
     "output_type": "stream",
     "text": [
      "<xarray.DataArray 'tas_10m' (latitude: 320, longitude: 640)>\n",
      "dask.array<shape=(320, 640), dtype=float32, chunksize=(320, 20)>\n",
      "Coordinates:\n",
      "  * latitude   (latitude) float64 -89.57 -89.01 -88.45 -87.89 -87.33 -86.77 ...\n",
      "  * longitude  (longitude) float64 0.0 0.5625 1.125 1.688 2.25 2.812 3.375 ...\n",
      "CPU times: user 7.07 ms, sys: 1.37 ms, total: 8.43 ms\n",
      "Wall time: 7.28 ms\n"
     ]
    }
   ],
   "source": [
    "%%time\n",
    "\n",
    "tas_10m_mean = tas_10m.sel(time=slice('1958-01-01', '1959-12-31')).mean(dim='time')\n",
    "print(tas_10m_mean)"
   ]
  },
  {
   "cell_type": "code",
   "execution_count": null,
   "metadata": {},
   "outputs": [],
   "source": [
    "%%time\n",
    "\n",
    "plt.contourf(tas_10m_mean)"
   ]
  },
  {
   "cell_type": "code",
   "execution_count": null,
   "metadata": {},
   "outputs": [],
   "source": []
  },
  {
   "cell_type": "code",
   "execution_count": null,
   "metadata": {},
   "outputs": [],
   "source": []
  },
  {
   "cell_type": "code",
   "execution_count": null,
   "metadata": {},
   "outputs": [],
   "source": []
  }
 ],
 "metadata": {
  "kernelspec": {
   "display_name": "Python 3",
   "language": "python",
   "name": "python3"
  },
  "language_info": {
   "codemirror_mode": {
    "name": "ipython",
    "version": 3
   },
   "file_extension": ".py",
   "mimetype": "text/x-python",
   "name": "python",
   "nbconvert_exporter": "python",
   "pygments_lexer": "ipython3",
   "version": "3.6.3"
  }
 },
 "nbformat": 4,
 "nbformat_minor": 2
}
