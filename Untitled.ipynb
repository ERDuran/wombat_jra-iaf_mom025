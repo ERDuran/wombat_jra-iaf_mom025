{
 "cells": [
  {
   "cell_type": "code",
   "execution_count": 2,
   "metadata": {},
   "outputs": [
    {
     "data": {
      "text/plain": [
       "<xarray.DataArray 'temp' (time: 300, st_ocean: 50, yt_ocean: 1080, xt_ocean: 1440)>\n",
       "dask.array<shape=(300, 50, 1080, 1440), dtype=float32, chunksize=(1, 10, 216, 288)>\n",
       "Coordinates:\n",
       "  * xt_ocean  (xt_ocean) float64 -279.9 -279.6 -279.4 ... 79.38 79.62 79.88\n",
       "  * yt_ocean  (yt_ocean) float64 -81.08 -80.97 -80.87 ... 89.74 89.84 89.95\n",
       "  * st_ocean  (st_ocean) float64 1.152 3.649 6.565 ... 5.034e+03 5.254e+03\n",
       "  * time      (time) object 1958-06-30 12:00:00 ... 2257-06-30 12:00:00\n",
       "Attributes:\n",
       "    long_name:      Conservative temperature\n",
       "    units:          deg_C\n",
       "    valid_range:    [-10. 500.]\n",
       "    cell_methods:   time: mean\n",
       "    time_avg_info:  average_T1,average_T2,average_DT\n",
       "    coordinates:    geolon_t geolat_t"
      ]
     },
     "execution_count": 2,
     "metadata": {},
     "output_type": "execute_result"
    }
   ],
   "source": [
    "import cosima_cookbook as cc\n",
    "import exptdata\n",
    "session = cc.database.create_session()\n",
    "\n",
    "ekey='025deg'\n",
    "expt = exptdata.exptdict[ekey]['expt']\n",
    "time_units = exptdata.exptdict[ekey]['time_units']\n",
    "n_files = exptdata.exptdict[ekey]['n_files']\n",
    "offset = exptdata.exptdict[ekey]['offset']\n",
    "\n",
    "temp_month = cc.querying.getvar(expt=expt,\n",
    "                                variable='temp',\n",
    "                                session=session,\n",
    "                                ncfile='ocean.nc',\n",
    "                                time_units=time_units,\n",
    "                                n=n_files,\n",
    "                                offset=offset)\n",
    "\n",
    "temp_month"
   ]
  },
  {
   "cell_type": "code",
   "execution_count": 7,
   "metadata": {},
   "outputs": [
    {
     "data": {
      "text/plain": [
       "<xarray.DataArray 'temp' (time: 300, st_ocean: 50, yt_ocean: 1080, xt_ocean: 1440)>\n",
       "dask.array<shape=(300, 50, 1080, 1440), dtype=float32, chunksize=(1, 10, 216, 288)>\n",
       "Coordinates:\n",
       "  * xt_ocean  (xt_ocean) float64 -279.9 -279.6 -279.4 ... 79.38 79.62 79.88\n",
       "  * yt_ocean  (yt_ocean) float64 -81.08 -80.97 -80.87 ... 89.74 89.84 89.95\n",
       "  * st_ocean  (st_ocean) float64 1.152 3.649 6.565 ... 5.034e+03 5.254e+03\n",
       "  * time      (time) object 1958-06-30 12:00:00 ... 2257-06-30 12:00:00\n",
       "Attributes:\n",
       "    long_name:      Conservative temperature\n",
       "    units:          deg_C\n",
       "    valid_range:    [-10. 500.]\n",
       "    cell_methods:   time: mean\n",
       "    time_avg_info:  average_T1,average_T2,average_DT\n",
       "    coordinates:    geolon_t geolat_t"
      ]
     },
     "execution_count": 7,
     "metadata": {},
     "output_type": "execute_result"
    }
   ],
   "source": [
    "temp = cc.querying.getvar(expt=expt,\n",
    "                                variable='temp',\n",
    "                                session=session,\n",
    "                                ncfile='ocean.nc')\n",
    "temp"
   ]
  },
  {
   "cell_type": "code",
   "execution_count": 8,
   "metadata": {},
   "outputs": [
    {
     "name": "stderr",
     "output_type": "stream",
     "text": [
      "ERROR:root:Unable to decode time: 'DataArray' object has no attribute 'calendar'\n"
     ]
    },
    {
     "data": {
      "text/plain": [
       "<xarray.DataArray 'temp' (time: 300, st_ocean: 50, yt_ocean: 1080, xt_ocean: 1440)>\n",
       "dask.array<shape=(300, 50, 1080, 1440), dtype=float32, chunksize=(1, 10, 216, 288)>\n",
       "Coordinates:\n",
       "  * xt_ocean  (xt_ocean) float64 -279.9 -279.6 -279.4 ... 79.38 79.62 79.88\n",
       "  * yt_ocean  (yt_ocean) float64 -81.08 -80.97 -80.87 ... 89.74 89.84 89.95\n",
       "  * st_ocean  (st_ocean) float64 1.152 3.649 6.565 ... 5.034e+03 5.254e+03\n",
       "  * time      (time) float64 8.784e+04 8.82e+04 8.857e+04 ... 1.967e+05 1.97e+05\n",
       "Attributes:\n",
       "    long_name:      Conservative temperature\n",
       "    units:          deg_C\n",
       "    valid_range:    [-10. 500.]\n",
       "    cell_methods:   time: mean\n",
       "    time_avg_info:  average_T1,average_T2,average_DT\n",
       "    coordinates:    geolon_t geolat_t"
      ]
     },
     "execution_count": 8,
     "metadata": {},
     "output_type": "execute_result"
    }
   ],
   "source": [
    "temp = cc.querying.getvar(expt=expt,\n",
    "                                variable='temp',\n",
    "                                session=session,\n",
    "                                ncfile='ocean.nc',\n",
    "                                time_units=time_units)\n",
    "temp"
   ]
  },
  {
   "cell_type": "code",
   "execution_count": 9,
   "metadata": {},
   "outputs": [
    {
     "data": {
      "text/plain": [
       "<xarray.DataArray 'temp' (time: 60, st_ocean: 50, yt_ocean: 1080, xt_ocean: 1440)>\n",
       "dask.array<shape=(60, 50, 1080, 1440), dtype=float32, chunksize=(1, 10, 216, 288)>\n",
       "Coordinates:\n",
       "  * xt_ocean  (xt_ocean) float64 -279.9 -279.6 -279.4 ... 79.38 79.62 79.88\n",
       "  * yt_ocean  (yt_ocean) float64 -81.08 -80.97 -80.87 ... 89.74 89.84 89.95\n",
       "  * st_ocean  (st_ocean) float64 1.152 3.649 6.565 ... 5.034e+03 5.254e+03\n",
       "  * time      (time) object 1958-07-01 12:00:00 ... 2017-06-30 12:00:00\n",
       "Attributes:\n",
       "    long_name:      Conservative temperature\n",
       "    units:          deg_C\n",
       "    valid_range:    [-10. 500.]\n",
       "    cell_methods:   time: mean\n",
       "    time_avg_info:  average_T1,average_T2,average_DT\n",
       "    coordinates:    geolon_t geolat_t"
      ]
     },
     "execution_count": 9,
     "metadata": {},
     "output_type": "execute_result"
    }
   ],
   "source": [
    "temp = cc.querying.getvar(expt=expt,\n",
    "                                variable='temp',\n",
    "                                session=session,\n",
    "                                ncfile='ocean.nc',\n",
    "                                n=n_files,\n",
    "                                offset=offset)\n",
    "\n",
    "temp"
   ]
  },
  {
   "cell_type": "code",
   "execution_count": null,
   "metadata": {},
   "outputs": [],
   "source": []
  },
  {
   "cell_type": "code",
   "execution_count": null,
   "metadata": {},
   "outputs": [],
   "source": []
  },
  {
   "cell_type": "code",
   "execution_count": null,
   "metadata": {},
   "outputs": [],
   "source": []
  },
  {
   "cell_type": "code",
   "execution_count": null,
   "metadata": {},
   "outputs": [],
   "source": []
  },
  {
   "cell_type": "code",
   "execution_count": null,
   "metadata": {},
   "outputs": [],
   "source": []
  },
  {
   "cell_type": "code",
   "execution_count": null,
   "metadata": {},
   "outputs": [],
   "source": []
  },
  {
   "cell_type": "code",
   "execution_count": 2,
   "metadata": {},
   "outputs": [
    {
     "data": {
      "text/plain": [
       "'025deg_jra55v13_iaf_gmredi6'"
      ]
     },
     "execution_count": 2,
     "metadata": {},
     "output_type": "execute_result"
    }
   ],
   "source": [
    "expt"
   ]
  },
  {
   "cell_type": "code",
   "execution_count": null,
   "metadata": {},
   "outputs": [],
   "source": []
  },
  {
   "cell_type": "code",
   "execution_count": 13,
   "metadata": {},
   "outputs": [
    {
     "name": "stderr",
     "output_type": "stream",
     "text": [
      "ERROR:root:Unable to decode time: 'DataArray' object has no attribute 'calendar'\n"
     ]
    }
   ],
   "source": [
    "# tstart = exptdata.clim_tstart\n",
    "# # tstart = '1978-01-01 00:00:00'\n",
    "# tend = exptdata.clim_tend\n",
    "\n",
    "ekey='025deg'\n",
    "expt = exptdata.exptdict[ekey]['expt']\n",
    "time_units = exptdata.exptdict[ekey]['time_units']\n",
    "n_files = exptdata.exptdict[ekey]['n_files']\n",
    "offset = exptdata.exptdict[ekey]['offset']\n",
    "\n",
    "temp_month = cc.querying.getvar(expt=expt,\n",
    "                                variable='temp',\n",
    "                                session=session,\n",
    "                                ncfile='ocean.nc',\n",
    "                                time_units=time_units,\n",
    "                                n=n_files,\n",
    "                                offset=offset).\\\n",
    "                            sel(yt_ocean=slice(latS,latN)).\\\n",
    "                            sel(xt_ocean=slice(lonW,lonE)).\\\n",
    "                            sel(st_ocean=0,method='nearest')"
   ]
  },
  {
   "cell_type": "code",
   "execution_count": 16,
   "metadata": {},
   "outputs": [],
   "source": [
    "from datetime import datetime"
   ]
  },
  {
   "cell_type": "code",
   "execution_count": 30,
   "metadata": {},
   "outputs": [
    {
     "ename": "TypeError",
     "evalue": "only size-1 arrays can be converted to Python scalars",
     "output_type": "error",
     "traceback": [
      "\u001b[0;31m---------------------------------------------------------------------------\u001b[0m",
      "\u001b[0;31mTypeError\u001b[0m                                 Traceback (most recent call last)",
      "\u001b[0;32m<ipython-input-30-bb4050a0c08d>\u001b[0m in \u001b[0;36m<module>\u001b[0;34m\u001b[0m\n\u001b[0;32m----> 1\u001b[0;31m \u001b[0mdatetime\u001b[0m\u001b[0;34m.\u001b[0m\u001b[0mfromtimestamp\u001b[0m\u001b[0;34m(\u001b[0m\u001b[0mtemp_month\u001b[0m\u001b[0;34m.\u001b[0m\u001b[0mtime\u001b[0m\u001b[0;34m.\u001b[0m\u001b[0mvalues\u001b[0m\u001b[0;34m)\u001b[0m\u001b[0;34m\u001b[0m\u001b[0;34m\u001b[0m\u001b[0m\n\u001b[0m",
      "\u001b[0;31mTypeError\u001b[0m: only size-1 arrays can be converted to Python scalars"
     ]
    }
   ],
   "source": [
    "datetime.fromtimestamp(temp_month.time.values)"
   ]
  },
  {
   "cell_type": "code",
   "execution_count": 40,
   "metadata": {},
   "outputs": [
    {
     "ename": "AttributeError",
     "evalue": "'datetime.datetime' object has no attribute 'timedelta'",
     "output_type": "error",
     "traceback": [
      "\u001b[0;31m---------------------------------------------------------------------------\u001b[0m",
      "\u001b[0;31mAttributeError\u001b[0m                            Traceback (most recent call last)",
      "\u001b[0;32m<ipython-input-40-ef27c2b820d2>\u001b[0m in \u001b[0;36m<module>\u001b[0;34m\u001b[0m\n\u001b[0;32m----> 1\u001b[0;31m \u001b[0mdatetime\u001b[0m\u001b[0;34m.\u001b[0m\u001b[0mfromtimestamp\u001b[0m\u001b[0;34m(\u001b[0m\u001b[0mtemp_month\u001b[0m\u001b[0;34m.\u001b[0m\u001b[0mtime\u001b[0m\u001b[0;34m.\u001b[0m\u001b[0mvalues\u001b[0m\u001b[0;34m[\u001b[0m\u001b[0;36m0\u001b[0m\u001b[0;34m]\u001b[0m\u001b[0;34m)\u001b[0m\u001b[0;34m.\u001b[0m\u001b[0mtimedelta\u001b[0m\u001b[0;34m(\u001b[0m\u001b[0mhours\u001b[0m\u001b[0;34m=\u001b[0m\u001b[0;36m1\u001b[0m\u001b[0;34m,\u001b[0m \u001b[0mminutes\u001b[0m\u001b[0;34m=\u001b[0m\u001b[0;36m10\u001b[0m\u001b[0;34m)\u001b[0m\u001b[0;34m.\u001b[0m\u001b[0mstrftime\u001b[0m\u001b[0;34m(\u001b[0m\u001b[0;34m'%Y-%m-%d %H:%M:%S'\u001b[0m\u001b[0;34m)\u001b[0m\u001b[0;34m\u001b[0m\u001b[0;34m\u001b[0m\u001b[0m\n\u001b[0m",
      "\u001b[0;31mAttributeError\u001b[0m: 'datetime.datetime' object has no attribute 'timedelta'"
     ]
    }
   ],
   "source": [
    "datetime.fromtimestamp(temp_month.time.values[0]).strftime('%Y-%m-%d %H:%M:%S')"
   ]
  }
 ],
 "metadata": {
  "kernelspec": {
   "display_name": "Python [conda env:analysis3-19.07] *",
   "language": "python",
   "name": "conda-env-analysis3-19.07-py"
  },
  "language_info": {
   "codemirror_mode": {
    "name": "ipython",
    "version": 3
   },
   "file_extension": ".py",
   "mimetype": "text/x-python",
   "name": "python",
   "nbconvert_exporter": "python",
   "pygments_lexer": "ipython3",
   "version": "3.6.7"
  }
 },
 "nbformat": 4,
 "nbformat_minor": 2
}
