{
 "cells": [
  {
   "cell_type": "code",
   "execution_count": 1,
   "metadata": {},
   "outputs": [],
   "source": [
    "'''\n",
    "This file plots yearly annual mean tau from wombat_jra-iaf_mom025 in\n",
    "/Users/earl/Desktop/Yang\n",
    "and places the outputs in\n",
    "/Users/earl/Dropbox/SAMexp/figures\n",
    "\n",
    "*** Run Yang.sh to mount data !! ***\n",
    "\n",
    "Earl Duran \n",
    "created: 14-Mar-18\n",
    "e.duran@unsw.edu.au\n",
    "'''\n",
    "\n",
    "import os\n",
    "import xarray as xr\n",
    "import numpy as np\n",
    "from mpl_toolkits.basemap import Basemap\n",
    "import matplotlib.pyplot as plt\n",
    "import matplotlib\n",
    "import sys\n",
    "def find_nearest_index(array, value):\n",
    "    return (np.abs(array - value)).argmin()\n",
    "\n"
   ]
  },
  {
   "cell_type": "code",
   "execution_count": 2,
   "metadata": {},
   "outputs": [
    {
     "data": {
      "application/javascript": [
       "IPython.notebook.kernel.execute('nb_name = ' + '\"' + IPython.notebook.notebook_name + '\"')"
      ],
      "text/plain": [
       "<IPython.core.display.Javascript object>"
      ]
     },
     "metadata": {},
     "output_type": "display_data"
    }
   ],
   "source": [
    "%%javascript\n",
    "IPython.notebook.kernel.execute('nb_name = ' + '\"' + IPython.notebook.notebook_name + '\"')"
   ]
  },
  {
   "cell_type": "code",
   "execution_count": 94,
   "metadata": {},
   "outputs": [
    {
     "name": "stdout",
     "output_type": "stream",
     "text": [
      "p01_plot_yearly_tau\n",
      "{}\n",
      "1958 OK!\n",
      "1959 OK!\n",
      "1960 OK!\n",
      "1961 OK!\n",
      "1962 OK!\n",
      "1963 OK!\n",
      "1964 OK!\n",
      "1965 OK!\n",
      "1966 OK!\n",
      "1967 OK!\n",
      "1968 OK!\n",
      "1969 OK!\n",
      "1970 OK!\n",
      "1971 OK!\n",
      "1972 OK!\n",
      "1973 OK!\n",
      "1974 OK!\n",
      "1975 OK!\n",
      "1976 OK!\n",
      "1977 OK!\n",
      "1978 OK!\n",
      "1979 OK!\n",
      "1980 OK!\n",
      "1981 OK!\n",
      "1982 OK!\n",
      "1983 OK!\n",
      "1984 OK!\n",
      "1985 OK!\n",
      "1986 OK!\n",
      "1987 OK!\n",
      "1988 OK!\n",
      "1989 OK!\n",
      "1990 OK!\n",
      "1991 OK!\n",
      "1992 OK!\n",
      "1993 OK!\n",
      "1994 OK!\n",
      "1995 OK!\n",
      "1996 OK!\n",
      "1997 OK!\n",
      "1998 OK!\n",
      "1999 OK!\n",
      "2000 OK!\n",
      "2001 OK!\n",
      "2002 OK!\n",
      "2003 OK!\n",
      "2004 OK!\n",
      "2005 OK!\n",
      "2006 OK!\n",
      "2007 OK!\n",
      "2008 OK!\n",
      "2009 OK!\n",
      "2010 OK!\n",
      "2011 OK!\n",
      "2012 OK!\n",
      "2013 OK!\n",
      "2014 OK!\n",
      "(220, 281)\n",
      "<xarray.DataArray 'temp' (Time: 1, st_ocean: 50, yt_ocean: 192, xt_ocean: 280)>\n",
      "[2688000 values with dtype=float32]\n",
      "Coordinates:\n",
      "  * xt_ocean  (xt_ocean) float64 -259.9 -259.6 -259.4 -259.1 -258.9 -258.6 ...\n",
      "  * yt_ocean  (yt_ocean) float64 -49.98 -49.82 -49.66 -49.49 -49.33 -49.17 ...\n",
      "  * st_ocean  (st_ocean) float64 5.034 15.1 25.22 35.36 45.58 55.85 66.26 ...\n",
      "  * Time      (Time) datetime64[ns] 1958-07-01T17:00:00\n",
      "Attributes:\n",
      "    long_name:      Potential temperature\n",
      "    units:          degrees C\n",
      "    valid_range:    [-32767  32767]\n",
      "    packing:        4\n",
      "    cell_methods:   time: mean Time: mean\n",
      "    time_avg_info:  average_T1,average_T2,average_DT\n",
      "    coordinates:    geolon_t geolat_t\n",
      "    standard_name:  sea_water_potential_temperature\n",
      "(220,)\n",
      "(281,)\n"
     ]
    }
   ],
   "source": [
    "script_name = nb_name[:-6]\n",
    "print(script_name)\n",
    "\n",
    "data_path = '/Users/earl/Desktop/Yang/'\n",
    "figures_path = '/Users/earl/Dropbox/wombat_jra-iaf_mom025/figures/'\n",
    "\n",
    "file_number = list(range(1958, 2015, 1))\n",
    "\n",
    "tau_x = xr.open_dataset(data_path + 'tau_x_1958-2014.nc')['tau_x']\n",
    "tau_y = xr.open_dataset(data_path + 'tau_y_1958-2014.nc')['tau_y']\n",
    "u_lat = xr.open_dataset(data_path + 'tau_x_1958-2014.nc')['yu_ocean']\n",
    "u_lon1 = xr.open_dataset(data_path + 'tau_x_1958-2014.nc')['xu_ocean']\n",
    "u_lon = lon1 + 360\n",
    "\n",
    "temp = xr.open_dataset(data_path + 'temp_1958-2014.nc')['temp']\n",
    "t_lat = xr.open_dataset(data_path + 'temp_1958-2014.nc')['yt_ocean']\n",
    "t_lon1 = xr.open_dataset(data_path + 'temp_1958-2014.nc')['xt_ocean']\n",
    "t_lon = lon1 + 360\n",
    "\n",
    "temp_mean = np.mean(temp, axis=0)\n",
    "\n",
    "temp_anom = temp - temp_mean\n",
    "\n",
    "print(tau_x[1,:,:].shape)\n",
    "print(temp[val])\n",
    "print(lat.shape)\n",
    "print(lon.shape)"
   ]
  },
  {
   "cell_type": "code",
   "execution_count": 75,
   "metadata": {},
   "outputs": [],
   "source": [
    "bm = Basemap(projection='mill', llcrnrlat=-60,urcrnrlat=-20,\\\n",
    "llcrnrlon=100,urcrnrlon=170, resolution='c')\n",
    "\n",
    "matplotlib.rcParams.update({'font.size': 14}) \n",
    "row = 1\n",
    "col = 2\n",
    "plt.rc('text', usetex=True)\n",
    "plt.rc('font', family='serif')\n",
    "\n"
   ]
  },
  {
   "cell_type": "code",
   "execution_count": 95,
   "metadata": {},
   "outputs": [
    {
     "name": "stderr",
     "output_type": "stream",
     "text": [
      "/Users/earl/miniconda3/lib/python3.6/site-packages/mpl_toolkits/basemap/__init__.py:1767: MatplotlibDeprecationWarning: The get_axis_bgcolor function was deprecated in version 2.0. Use get_facecolor instead.\n",
      "  axisbgc = ax.get_axis_bgcolor()\n",
      "/Users/earl/miniconda3/lib/python3.6/site-packages/mpl_toolkits/basemap/__init__.py:3608: MatplotlibDeprecationWarning: The ishold function was deprecated in version 2.0.\n",
      "  b = ax.ishold()\n",
      "/Users/earl/miniconda3/lib/python3.6/site-packages/mpl_toolkits/basemap/__init__.py:3677: MatplotlibDeprecationWarning: axes.hold is deprecated.\n",
      "    See the API Changes document (http://matplotlib.org/api/api_changes.html)\n",
      "    for more details.\n",
      "  ax.hold(b)\n",
      "/Users/earl/miniconda3/lib/python3.6/site-packages/mpl_toolkits/basemap/__init__.py:3675: MatplotlibDeprecationWarning: axes.hold is deprecated.\n",
      "    See the API Changes document (http://matplotlib.org/api/api_changes.html)\n",
      "    for more details.\n",
      "  ax.hold(b)\n"
     ]
    },
    {
     "ename": "ValueError",
     "evalue": "operands could not be broadcast together with shapes (1,50,192,280) (220,281) ",
     "output_type": "error",
     "traceback": [
      "\u001b[0;31m---------------------------------------------------------------------------\u001b[0m",
      "\u001b[0;31mValueError\u001b[0m                                Traceback (most recent call last)",
      "\u001b[0;32m<ipython-input-95-60aac89cd201>\u001b[0m in \u001b[0;36m<module>\u001b[0;34m()\u001b[0m\n\u001b[1;32m     92\u001b[0m \u001b[0;34m\u001b[0m\u001b[0m\n\u001b[1;32m     93\u001b[0m     \u001b[0;31m# filled contour plot\u001b[0m\u001b[0;34m\u001b[0m\u001b[0;34m\u001b[0m\u001b[0m\n\u001b[0;32m---> 94\u001b[0;31m     \u001b[0mcontf\u001b[0m \u001b[0;34m=\u001b[0m \u001b[0mbm\u001b[0m\u001b[0;34m.\u001b[0m\u001b[0mcontourf\u001b[0m\u001b[0;34m(\u001b[0m\u001b[0mBm_lons\u001b[0m\u001b[0;34m,\u001b[0m \u001b[0mBm_lats\u001b[0m\u001b[0;34m,\u001b[0m \u001b[0mtemp\u001b[0m\u001b[0;34m[\u001b[0m\u001b[0mval\u001b[0m\u001b[0;34m]\u001b[0m\u001b[0;34m,\u001b[0m\u001b[0mcontf_lvls\u001b[0m\u001b[0;34m,\u001b[0m \u001b[0mcmap\u001b[0m\u001b[0;34m=\u001b[0m\u001b[0mcmap\u001b[0m\u001b[0;34m,\u001b[0m \u001b[0mextend\u001b[0m\u001b[0;34m=\u001b[0m\u001b[0;34m'both'\u001b[0m\u001b[0;34m)\u001b[0m\u001b[0;34m\u001b[0m\u001b[0m\n\u001b[0m\u001b[1;32m     95\u001b[0m \u001b[0;34m\u001b[0m\u001b[0m\n\u001b[1;32m     96\u001b[0m \u001b[0;34m\u001b[0m\u001b[0m\n",
      "\u001b[0;32m~/miniconda3/lib/python3.6/site-packages/mpl_toolkits/basemap/__init__.py\u001b[0m in \u001b[0;36mwith_transform\u001b[0;34m(self, x, y, data, *args, **kwargs)\u001b[0m\n\u001b[1;32m    519\u001b[0m             \u001b[0;31m# convert lat/lon coords to map projection coords.\u001b[0m\u001b[0;34m\u001b[0m\u001b[0;34m\u001b[0m\u001b[0m\n\u001b[1;32m    520\u001b[0m             \u001b[0mx\u001b[0m\u001b[0;34m,\u001b[0m \u001b[0my\u001b[0m \u001b[0;34m=\u001b[0m \u001b[0mself\u001b[0m\u001b[0;34m(\u001b[0m\u001b[0mx\u001b[0m\u001b[0;34m,\u001b[0m\u001b[0my\u001b[0m\u001b[0;34m)\u001b[0m\u001b[0;34m\u001b[0m\u001b[0m\n\u001b[0;32m--> 521\u001b[0;31m         \u001b[0;32mreturn\u001b[0m \u001b[0mplotfunc\u001b[0m\u001b[0;34m(\u001b[0m\u001b[0mself\u001b[0m\u001b[0;34m,\u001b[0m\u001b[0mx\u001b[0m\u001b[0;34m,\u001b[0m\u001b[0my\u001b[0m\u001b[0;34m,\u001b[0m\u001b[0mdata\u001b[0m\u001b[0;34m,\u001b[0m\u001b[0;34m*\u001b[0m\u001b[0margs\u001b[0m\u001b[0;34m,\u001b[0m\u001b[0;34m**\u001b[0m\u001b[0mkwargs\u001b[0m\u001b[0;34m)\u001b[0m\u001b[0;34m\u001b[0m\u001b[0m\n\u001b[0m\u001b[1;32m    522\u001b[0m     \u001b[0;32mreturn\u001b[0m \u001b[0mwith_transform\u001b[0m\u001b[0;34m\u001b[0m\u001b[0m\n\u001b[1;32m    523\u001b[0m \u001b[0;34m\u001b[0m\u001b[0m\n",
      "\u001b[0;32m~/miniconda3/lib/python3.6/site-packages/mpl_toolkits/basemap/__init__.py\u001b[0m in \u001b[0;36mcontourf\u001b[0;34m(self, x, y, data, *args, **kwargs)\u001b[0m\n\u001b[1;32m   3669\u001b[0m                 \u001b[0mdata\u001b[0m \u001b[0;34m=\u001b[0m \u001b[0mma\u001b[0m\u001b[0;34m.\u001b[0m\u001b[0masarray\u001b[0m\u001b[0;34m(\u001b[0m\u001b[0mdata\u001b[0m\u001b[0;34m)\u001b[0m\u001b[0;34m\u001b[0m\u001b[0m\n\u001b[1;32m   3670\u001b[0m                 \u001b[0;31m# combine with data mask.\u001b[0m\u001b[0;34m\u001b[0m\u001b[0;34m\u001b[0m\u001b[0m\n\u001b[0;32m-> 3671\u001b[0;31m                 \u001b[0mmask\u001b[0m \u001b[0;34m=\u001b[0m \u001b[0mnp\u001b[0m\u001b[0;34m.\u001b[0m\u001b[0mlogical_or\u001b[0m\u001b[0;34m(\u001b[0m\u001b[0mma\u001b[0m\u001b[0;34m.\u001b[0m\u001b[0mgetmaskarray\u001b[0m\u001b[0;34m(\u001b[0m\u001b[0mdata\u001b[0m\u001b[0;34m)\u001b[0m\u001b[0;34m,\u001b[0m\u001b[0mxymask\u001b[0m\u001b[0;34m)\u001b[0m\u001b[0;34m\u001b[0m\u001b[0m\n\u001b[0m\u001b[1;32m   3672\u001b[0m                 \u001b[0mdata\u001b[0m \u001b[0;34m=\u001b[0m \u001b[0mma\u001b[0m\u001b[0;34m.\u001b[0m\u001b[0mmasked_array\u001b[0m\u001b[0;34m(\u001b[0m\u001b[0mdata\u001b[0m\u001b[0;34m,\u001b[0m\u001b[0mmask\u001b[0m\u001b[0;34m=\u001b[0m\u001b[0mmask\u001b[0m\u001b[0;34m)\u001b[0m\u001b[0;34m\u001b[0m\u001b[0m\n\u001b[1;32m   3673\u001b[0m                 \u001b[0mCS\u001b[0m \u001b[0;34m=\u001b[0m \u001b[0max\u001b[0m\u001b[0;34m.\u001b[0m\u001b[0mcontourf\u001b[0m\u001b[0;34m(\u001b[0m\u001b[0mx\u001b[0m\u001b[0;34m,\u001b[0m\u001b[0my\u001b[0m\u001b[0;34m,\u001b[0m\u001b[0mdata\u001b[0m\u001b[0;34m,\u001b[0m\u001b[0;34m*\u001b[0m\u001b[0margs\u001b[0m\u001b[0;34m,\u001b[0m\u001b[0;34m**\u001b[0m\u001b[0mkwargs\u001b[0m\u001b[0;34m)\u001b[0m\u001b[0;34m\u001b[0m\u001b[0m\n",
      "\u001b[0;31mValueError\u001b[0m: operands could not be broadcast together with shapes (1,50,192,280) (220,281) "
     ]
    },
    {
     "data": {
      "image/png": "[encoded data removed]",
      "text/plain": [
       "<matplotlib.figure.Figure at 0x149b10c50>"
      ]
     },
     "metadata": {},
     "output_type": "display_data"
    }
   ],
   "source": [
    "for idx, t in enumerate(file_number[0:1]):\n",
    "    plt.close('all') \n",
    "    fig = plt.figure() \n",
    "    fig.set_size_inches(16, 8)\n",
    "    \n",
    "    ax = fig.add_subplot(row,col,1)\n",
    "    cmap = plt.get_cmap('RdBu_r')\n",
    "    step = 0.025\n",
    "    contf_lvls = np.arange(-0.25,0.25+1e-08,step)              \n",
    "            \n",
    "    ax.set_facecolor('grey')\n",
    "    bm.drawcoastlines(linewidth=0.05)\n",
    "    bm.fillcontinents(color='white')\n",
    "    \n",
    "    lons, lats = np.meshgrid(lon, lat)\n",
    "    Bm_lons, Bm_lats = bm(lons, lats) \n",
    "    \n",
    "    contf = bm.contourf(Bm_lons, Bm_lats, tau_x[idx,:,:], contf_lvls, cmap=cmap, extend='both')\n",
    "    \n",
    "    ax.set_title('Wind Stress ' + str(t))\n",
    "    \n",
    "    bm.drawmeridians(np.arange(110, 180, 10), linewidth=0.2, labels=[0,0,0,1])\n",
    "    bm.drawparallels(np.arange(-60, -20, 5), linewidth=0.2, labels=[1,0,0,0])\n",
    "      \n",
    "    cbar = plt.colorbar(contf, orientation='horizontal', drawedges=True)\n",
    "    cbar.set_label(r'$\\tau$ $N/m^{2}$') \n",
    "    cbar.set_ticks(contf_lvls[np.arange(0,np.size(contf_lvls),2)])\n",
    "    \n",
    "    \n",
    "    \n",
    "    ax = fig.add_subplot(row,col,2)\n",
    "    cmap = plt.get_cmap('RdBu_r')\n",
    "    step = 0.2\n",
    "    contf_lvls = np.arange(-2,2+1e-08,step)              \n",
    "            \n",
    "    ax.set_facecolor('grey')\n",
    "    bm.drawcoastlines(linewidth=0.05)\n",
    "    bm.fillcontinents(color='white')\n",
    "    \n",
    "    lons, lats = np.meshgrid(lon, lat)\n",
    "    Bm_lons, Bm_lats = bm(lons, lats) \n",
    "    \n",
    "    contf = bm.contourf(Bm_lons, Bm_lats, temp_anom[idx,:,:], contf_lvls, cmap=cmap, extend='both')\n",
    "    \n",
    "    ax.set_title('Sea Surface Temperature Anomaly' + str(t))\n",
    "    \n",
    "    bm.drawmeridians(np.arange(110, 180, 10), linewidth=0.2, labels=[0,0,0,1])\n",
    "    bm.drawparallels(np.arange(-60, -20, 5), linewidth=0.2, labels=[1,0,0,0])\n",
    "      \n",
    "    cbar = plt.colorbar(contf, orientation='horizontal', drawedges=True)\n",
    "    cbar.set_label(r'$SST$ $^{\\circ}C$') \n",
    "    cbar.set_ticks(contf_lvls[np.arange(0,np.size(contf_lvls),2)])\n",
    "    \n",
    "    \n",
    "    \n",
    "    plt.suptitle(r\"Wombat jra iaf mom025 tau\")\n",
    "    \n",
    "    output_ls = os.listdir(figures_path)\n",
    "    if not script_name:\n",
    "        script_name = 'test'\n",
    "    elif script_name not in output_ls:\n",
    "        os.mkdir(figures_path + '/' + script_name)\n",
    "    \n",
    "    plt.savefig(figures_path + '/' + script_name + '/' + script_name[0:3] \\\n",
    "                + '_fig1_' + str(t) + '.png', bbox_inches='tight', dpi=200)\n",
    "\n",
    "\n"
   ]
  },
  {
   "cell_type": "code",
   "execution_count": 68,
   "metadata": {},
   "outputs": [
    {
     "name": "stdout",
     "output_type": "stream",
     "text": [
      "p01_plot_yearly_tau.ipynb\n"
     ]
    }
   ],
   "source": [
    "print(nb_name)"
   ]
  }
 ],
 "metadata": {
  "kernelspec": {
   "display_name": "Python 3",
   "language": "python",
   "name": "python3"
  },
  "language_info": {
   "codemirror_mode": {
    "name": "ipython",
    "version": 3
   },
   "file_extension": ".py",
   "mimetype": "text/x-python",
   "name": "python",
   "nbconvert_exporter": "python",
   "pygments_lexer": "ipython3",
   "version": "3.6.3"
  }
 },
 "nbformat": 4,
 "nbformat_minor": 2
}
